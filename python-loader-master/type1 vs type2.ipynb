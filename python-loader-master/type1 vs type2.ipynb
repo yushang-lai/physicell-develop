{
 "cells": [
  {
   "cell_type": "code",
   "execution_count": 57,
   "metadata": {},
   "outputs": [],
   "source": [
    "import numpy as np\n",
    "import pandas as pd\n",
    "import scipy\n",
    "import matplotlib.pyplot as plt \n",
    "from pyMCDS import pyMCDS"
   ]
  },
  {
   "cell_type": "code",
   "execution_count": 58,
   "metadata": {},
   "outputs": [
    {
     "name": "stdout",
     "output_type": "stream",
     "text": [
      "Reading C:\\Users\\zeXal\\Desktop\\stem_cells_paul\\stem_cells-master\\output_fix\\output00000000.xml\n",
      "Reading C:\\Users\\zeXal\\Desktop\\stem_cells_paul\\stem_cells-master\\output_fix\\initial_mesh0.mat\n",
      "Reading C:\\Users\\zeXal\\Desktop\\stem_cells_paul\\stem_cells-master\\output_fix\\output00000000_microenvironment0.mat\n",
      "Parsing oxygen data\n",
      "Reading C:\\Users\\zeXal\\Desktop\\stem_cells_paul\\stem_cells-master\\output_fix\\output00000000_cells_physicell.mat\n",
      "Reading C:\\Users\\zeXal\\Desktop\\stem_cells_paul\\stem_cells-master\\output_fix\\output00000001.xml\n",
      "Reading C:\\Users\\zeXal\\Desktop\\stem_cells_paul\\stem_cells-master\\output_fix\\initial_mesh0.mat\n",
      "Reading C:\\Users\\zeXal\\Desktop\\stem_cells_paul\\stem_cells-master\\output_fix\\output00000001_microenvironment0.mat\n",
      "Parsing oxygen data\n",
      "Reading C:\\Users\\zeXal\\Desktop\\stem_cells_paul\\stem_cells-master\\output_fix\\output00000001_cells_physicell.mat\n",
      "Reading C:\\Users\\zeXal\\Desktop\\stem_cells_paul\\stem_cells-master\\output_fix\\output00000002.xml\n",
      "Reading C:\\Users\\zeXal\\Desktop\\stem_cells_paul\\stem_cells-master\\output_fix\\initial_mesh0.mat\n",
      "Reading C:\\Users\\zeXal\\Desktop\\stem_cells_paul\\stem_cells-master\\output_fix\\output00000002_microenvironment0.mat\n",
      "Parsing oxygen data\n",
      "Reading C:\\Users\\zeXal\\Desktop\\stem_cells_paul\\stem_cells-master\\output_fix\\output00000002_cells_physicell.mat\n",
      "Reading C:\\Users\\zeXal\\Desktop\\stem_cells_paul\\stem_cells-master\\output_fix\\output00000003.xml\n",
      "Reading C:\\Users\\zeXal\\Desktop\\stem_cells_paul\\stem_cells-master\\output_fix\\initial_mesh0.mat\n",
      "Reading C:\\Users\\zeXal\\Desktop\\stem_cells_paul\\stem_cells-master\\output_fix\\output00000003_microenvironment0.mat\n",
      "Parsing oxygen data\n",
      "Reading C:\\Users\\zeXal\\Desktop\\stem_cells_paul\\stem_cells-master\\output_fix\\output00000003_cells_physicell.mat\n",
      "Reading C:\\Users\\zeXal\\Desktop\\stem_cells_paul\\stem_cells-master\\output_fix\\output00000004.xml\n",
      "Reading C:\\Users\\zeXal\\Desktop\\stem_cells_paul\\stem_cells-master\\output_fix\\initial_mesh0.mat\n",
      "Reading C:\\Users\\zeXal\\Desktop\\stem_cells_paul\\stem_cells-master\\output_fix\\output00000004_microenvironment0.mat\n",
      "Parsing oxygen data\n",
      "Reading C:\\Users\\zeXal\\Desktop\\stem_cells_paul\\stem_cells-master\\output_fix\\output00000004_cells_physicell.mat\n",
      "Reading C:\\Users\\zeXal\\Desktop\\stem_cells_paul\\stem_cells-master\\output_fix\\output00000005.xml\n",
      "Reading C:\\Users\\zeXal\\Desktop\\stem_cells_paul\\stem_cells-master\\output_fix\\initial_mesh0.mat\n",
      "Reading C:\\Users\\zeXal\\Desktop\\stem_cells_paul\\stem_cells-master\\output_fix\\output00000005_microenvironment0.mat\n",
      "Parsing oxygen data\n",
      "Reading C:\\Users\\zeXal\\Desktop\\stem_cells_paul\\stem_cells-master\\output_fix\\output00000005_cells_physicell.mat\n",
      "Reading C:\\Users\\zeXal\\Desktop\\stem_cells_paul\\stem_cells-master\\output_fix\\output00000006.xml\n",
      "Reading C:\\Users\\zeXal\\Desktop\\stem_cells_paul\\stem_cells-master\\output_fix\\initial_mesh0.mat\n",
      "Reading C:\\Users\\zeXal\\Desktop\\stem_cells_paul\\stem_cells-master\\output_fix\\output00000006_microenvironment0.mat\n",
      "Parsing oxygen data\n",
      "Reading C:\\Users\\zeXal\\Desktop\\stem_cells_paul\\stem_cells-master\\output_fix\\output00000006_cells_physicell.mat\n",
      "Reading C:\\Users\\zeXal\\Desktop\\stem_cells_paul\\stem_cells-master\\output_fix\\output00000007.xml\n",
      "Reading C:\\Users\\zeXal\\Desktop\\stem_cells_paul\\stem_cells-master\\output_fix\\initial_mesh0.mat\n",
      "Reading C:\\Users\\zeXal\\Desktop\\stem_cells_paul\\stem_cells-master\\output_fix\\output00000007_microenvironment0.mat\n",
      "Parsing oxygen data\n",
      "Reading C:\\Users\\zeXal\\Desktop\\stem_cells_paul\\stem_cells-master\\output_fix\\output00000007_cells_physicell.mat\n",
      "Reading C:\\Users\\zeXal\\Desktop\\stem_cells_paul\\stem_cells-master\\output_fix\\output00000008.xml\n",
      "Reading C:\\Users\\zeXal\\Desktop\\stem_cells_paul\\stem_cells-master\\output_fix\\initial_mesh0.mat\n",
      "Reading C:\\Users\\zeXal\\Desktop\\stem_cells_paul\\stem_cells-master\\output_fix\\output00000008_microenvironment0.mat\n",
      "Parsing oxygen data\n",
      "Reading C:\\Users\\zeXal\\Desktop\\stem_cells_paul\\stem_cells-master\\output_fix\\output00000008_cells_physicell.mat\n",
      "Reading C:\\Users\\zeXal\\Desktop\\stem_cells_paul\\stem_cells-master\\output_fix\\output00000009.xml\n",
      "Reading C:\\Users\\zeXal\\Desktop\\stem_cells_paul\\stem_cells-master\\output_fix\\initial_mesh0.mat\n",
      "Reading C:\\Users\\zeXal\\Desktop\\stem_cells_paul\\stem_cells-master\\output_fix\\output00000009_microenvironment0.mat\n",
      "Parsing oxygen data\n",
      "Reading C:\\Users\\zeXal\\Desktop\\stem_cells_paul\\stem_cells-master\\output_fix\\output00000009_cells_physicell.mat\n"
     ]
    }
   ],
   "source": [
    "type1_lst = [None]*10;\n",
    "type2_lst = [None]*10;\n",
    "time_lst  = [None]*10;\n",
    "for i in range(10):\n",
    "    if i>=10:\n",
    "        new_str = str(i);\n",
    "    else:\n",
    "        new_str = '0'+str(i)\n",
    "    my_str = 'output000000'+new_str +'.xml'\n",
    "    mcds = pyMCDS(my_str,r'C:\\Users\\zeXal\\Desktop\\stem_cells_paul\\stem_cells-master\\output_fix')\n",
    "    all_type = mcds.data['discrete_cells']['cell_type']\n",
    "    type1_lst[i] = sum(all_type==1)\n",
    "    type2_lst[i] = sum(all_type==2)\n",
    "    time_lst[i]  = mcds.get_time()"
   ]
  },
  {
   "cell_type": "code",
   "execution_count": 66,
   "metadata": {},
   "outputs": [
    {
     "name": "stdout",
     "output_type": "stream",
     "text": [
      "Reading C:\\Users\\zeXal\\Desktop\\stem_cells_paul\\stem_cells-master\\output_r1\\output00000000.xml\n",
      "Reading C:\\Users\\zeXal\\Desktop\\stem_cells_paul\\stem_cells-master\\output_r1\\initial_mesh0.mat\n",
      "Reading C:\\Users\\zeXal\\Desktop\\stem_cells_paul\\stem_cells-master\\output_r1\\output00000000_microenvironment0.mat\n",
      "Parsing oxygen data\n",
      "Reading C:\\Users\\zeXal\\Desktop\\stem_cells_paul\\stem_cells-master\\output_r1\\output00000000_cells_physicell.mat\n",
      "Reading C:\\Users\\zeXal\\Desktop\\stem_cells_paul\\stem_cells-master\\output_r1\\output00000001.xml\n",
      "Reading C:\\Users\\zeXal\\Desktop\\stem_cells_paul\\stem_cells-master\\output_r1\\initial_mesh0.mat\n",
      "Reading C:\\Users\\zeXal\\Desktop\\stem_cells_paul\\stem_cells-master\\output_r1\\output00000001_microenvironment0.mat\n",
      "Parsing oxygen data\n",
      "Reading C:\\Users\\zeXal\\Desktop\\stem_cells_paul\\stem_cells-master\\output_r1\\output00000001_cells_physicell.mat\n",
      "Reading C:\\Users\\zeXal\\Desktop\\stem_cells_paul\\stem_cells-master\\output_r1\\output00000002.xml\n",
      "Reading C:\\Users\\zeXal\\Desktop\\stem_cells_paul\\stem_cells-master\\output_r1\\initial_mesh0.mat\n",
      "Reading C:\\Users\\zeXal\\Desktop\\stem_cells_paul\\stem_cells-master\\output_r1\\output00000002_microenvironment0.mat\n",
      "Parsing oxygen data\n",
      "Reading C:\\Users\\zeXal\\Desktop\\stem_cells_paul\\stem_cells-master\\output_r1\\output00000002_cells_physicell.mat\n",
      "Reading C:\\Users\\zeXal\\Desktop\\stem_cells_paul\\stem_cells-master\\output_r1\\output00000003.xml\n",
      "Reading C:\\Users\\zeXal\\Desktop\\stem_cells_paul\\stem_cells-master\\output_r1\\initial_mesh0.mat\n",
      "Reading C:\\Users\\zeXal\\Desktop\\stem_cells_paul\\stem_cells-master\\output_r1\\output00000003_microenvironment0.mat\n",
      "Parsing oxygen data\n",
      "Reading C:\\Users\\zeXal\\Desktop\\stem_cells_paul\\stem_cells-master\\output_r1\\output00000003_cells_physicell.mat\n",
      "Reading C:\\Users\\zeXal\\Desktop\\stem_cells_paul\\stem_cells-master\\output_r1\\output00000004.xml\n",
      "Reading C:\\Users\\zeXal\\Desktop\\stem_cells_paul\\stem_cells-master\\output_r1\\initial_mesh0.mat\n",
      "Reading C:\\Users\\zeXal\\Desktop\\stem_cells_paul\\stem_cells-master\\output_r1\\output00000004_microenvironment0.mat\n",
      "Parsing oxygen data\n",
      "Reading C:\\Users\\zeXal\\Desktop\\stem_cells_paul\\stem_cells-master\\output_r1\\output00000004_cells_physicell.mat\n",
      "Reading C:\\Users\\zeXal\\Desktop\\stem_cells_paul\\stem_cells-master\\output_r1\\output00000005.xml\n",
      "Reading C:\\Users\\zeXal\\Desktop\\stem_cells_paul\\stem_cells-master\\output_r1\\initial_mesh0.mat\n",
      "Reading C:\\Users\\zeXal\\Desktop\\stem_cells_paul\\stem_cells-master\\output_r1\\output00000005_microenvironment0.mat\n",
      "Parsing oxygen data\n",
      "Reading C:\\Users\\zeXal\\Desktop\\stem_cells_paul\\stem_cells-master\\output_r1\\output00000005_cells_physicell.mat\n"
     ]
    }
   ],
   "source": [
    "type1_lstr = [None]*6;\n",
    "type2_lstr = [None]*6;\n",
    "time_lstr  = [None]*6;\n",
    "for i in range(6):\n",
    "    if i>=10:\n",
    "        new_str = str(i);\n",
    "    else:\n",
    "        new_str = '0'+str(i)\n",
    "    my_str = 'output000000'+new_str +'.xml'\n",
    "    mcds = pyMCDS(my_str,r'C:\\Users\\zeXal\\Desktop\\stem_cells_paul\\stem_cells-master\\output_r1')\n",
    "    all_type = mcds.data['discrete_cells']['cell_type']\n",
    "    type1_lstr[i] = sum(all_type==1)\n",
    "    type2_lstr[i] = sum(all_type==2)\n",
    "    time_lstr[i]  = mcds.get_time()"
   ]
  },
  {
   "cell_type": "code",
   "execution_count": 69,
   "metadata": {},
   "outputs": [
    {
     "name": "stdout",
     "output_type": "stream",
     "text": [
      "Reading C:\\Users\\zeXal\\Desktop\\stem_cells_paul\\stem_cells-master\\output_r1\\output00000000.xml\n",
      "Reading C:\\Users\\zeXal\\Desktop\\stem_cells_paul\\stem_cells-master\\output_r1\\initial_mesh0.mat\n",
      "Reading C:\\Users\\zeXal\\Desktop\\stem_cells_paul\\stem_cells-master\\output_r1\\output00000000_microenvironment0.mat\n",
      "Parsing oxygen data\n",
      "Reading C:\\Users\\zeXal\\Desktop\\stem_cells_paul\\stem_cells-master\\output_r1\\output00000000_cells_physicell.mat\n",
      "Reading C:\\Users\\zeXal\\Desktop\\stem_cells_paul\\stem_cells-master\\output_r1\\output00000001.xml\n",
      "Reading C:\\Users\\zeXal\\Desktop\\stem_cells_paul\\stem_cells-master\\output_r1\\initial_mesh0.mat\n",
      "Reading C:\\Users\\zeXal\\Desktop\\stem_cells_paul\\stem_cells-master\\output_r1\\output00000001_microenvironment0.mat\n",
      "Parsing oxygen data\n",
      "Reading C:\\Users\\zeXal\\Desktop\\stem_cells_paul\\stem_cells-master\\output_r1\\output00000001_cells_physicell.mat\n",
      "Reading C:\\Users\\zeXal\\Desktop\\stem_cells_paul\\stem_cells-master\\output_r1\\output00000002.xml\n",
      "Reading C:\\Users\\zeXal\\Desktop\\stem_cells_paul\\stem_cells-master\\output_r1\\initial_mesh0.mat\n",
      "Reading C:\\Users\\zeXal\\Desktop\\stem_cells_paul\\stem_cells-master\\output_r1\\output00000002_microenvironment0.mat\n",
      "Parsing oxygen data\n",
      "Reading C:\\Users\\zeXal\\Desktop\\stem_cells_paul\\stem_cells-master\\output_r1\\output00000002_cells_physicell.mat\n",
      "Reading C:\\Users\\zeXal\\Desktop\\stem_cells_paul\\stem_cells-master\\output_r1\\output00000003.xml\n",
      "Reading C:\\Users\\zeXal\\Desktop\\stem_cells_paul\\stem_cells-master\\output_r1\\initial_mesh0.mat\n",
      "Reading C:\\Users\\zeXal\\Desktop\\stem_cells_paul\\stem_cells-master\\output_r1\\output00000003_microenvironment0.mat\n",
      "Parsing oxygen data\n",
      "Reading C:\\Users\\zeXal\\Desktop\\stem_cells_paul\\stem_cells-master\\output_r1\\output00000003_cells_physicell.mat\n",
      "Reading C:\\Users\\zeXal\\Desktop\\stem_cells_paul\\stem_cells-master\\output_r1\\output00000004.xml\n",
      "Reading C:\\Users\\zeXal\\Desktop\\stem_cells_paul\\stem_cells-master\\output_r1\\initial_mesh0.mat\n",
      "Reading C:\\Users\\zeXal\\Desktop\\stem_cells_paul\\stem_cells-master\\output_r1\\output00000004_microenvironment0.mat\n",
      "Parsing oxygen data\n",
      "Reading C:\\Users\\zeXal\\Desktop\\stem_cells_paul\\stem_cells-master\\output_r1\\output00000004_cells_physicell.mat\n",
      "Reading C:\\Users\\zeXal\\Desktop\\stem_cells_paul\\stem_cells-master\\output_r1\\output00000005.xml\n",
      "Reading C:\\Users\\zeXal\\Desktop\\stem_cells_paul\\stem_cells-master\\output_r1\\initial_mesh0.mat\n",
      "Reading C:\\Users\\zeXal\\Desktop\\stem_cells_paul\\stem_cells-master\\output_r1\\output00000005_microenvironment0.mat\n",
      "Parsing oxygen data\n",
      "Reading C:\\Users\\zeXal\\Desktop\\stem_cells_paul\\stem_cells-master\\output_r1\\output00000005_cells_physicell.mat\n"
     ]
    }
   ],
   "source": [
    "type1_lstr2 = [None]*6;\n",
    "type2_lstr2 = [None]*6;\n",
    "time_lstr2  = [None]*6;\n",
    "for i in range(6):\n",
    "    if i>=10:\n",
    "        new_str = str(i);\n",
    "    else:\n",
    "        new_str = '0'+str(i)\n",
    "    my_str = 'output000000'+new_str +'.xml'\n",
    "    mcds = pyMCDS(my_str,r'C:\\Users\\zeXal\\Desktop\\stem_cells_paul\\stem_cells-master\\output_r1')\n",
    "    all_type = mcds.data['discrete_cells']['cell_type']\n",
    "    type1_lstr2[i] = sum(all_type==1)\n",
    "    type2_lstr2[i] = sum(all_type==2)\n",
    "    time_lstr2[i]  = mcds.get_time()"
   ]
  },
  {
   "cell_type": "code",
   "execution_count": 85,
   "metadata": {},
   "outputs": [
    {
     "data": {
      "text/plain": [
       "Text(0.5, 1.0, 'stocastic duration for division one 1/6h 2')"
      ]
     },
     "execution_count": 85,
     "metadata": {},
     "output_type": "execute_result"
    },
    {
     "data": {
      "image/png": "[encoded data removed]",
      "text/plain": [
       "<Figure size 1152x360 with 3 Axes>"
      ]
     },
     "metadata": {
      "needs_background": "light"
     },
     "output_type": "display_data"
    }
   ],
   "source": [
    "plt.figure(figsize=(16,5))\n",
    "plt.subplot(1,3,1)\n",
    "plt.plot(time_lst,type1_lst,'ro-',label='type1 number')\n",
    "plt.plot(time_lst,type2_lst,'bo-',label='type2 number')\n",
    "plt.legend()\n",
    "plt.xlim(0, 3240)\n",
    "plt.title('fix duration for division 1/6h')\n",
    "plt.subplot(1,3,2)\n",
    "plt.plot(time_lstr,type1_lstr,'ro-',label='type1 number')\n",
    "plt.plot(time_lstr,type2_lstr,'bo-',label='type2 number')\n",
    "plt.xlim(0, 3240)\n",
    "plt.legend()\n",
    "plt.title('stocastic duration for division one 1/6h')\n",
    "plt.subplot(1,3,3)\n",
    "plt.plot(time_lstr2,type1_lstr2,'ro-',label='type1 number')\n",
    "plt.plot(time_lstr2,type2_lstr2,'bo-',label='type2 number')\n",
    "plt.xlim(0, 3240)\n",
    "plt.legend()\n",
    "plt.title('stocastic duration for division one 1/6h 2')"
   ]
  },
  {
   "cell_type": "markdown",
   "metadata": {},
   "source": []
  }
 ],
 "metadata": {
  "kernelspec": {
   "display_name": "Python 3",
   "language": "python",
   "name": "python3"
  },
  "language_info": {
   "codemirror_mode": {
    "name": "ipython",
    "version": 3
   },
   "file_extension": ".py",
   "mimetype": "text/x-python",
   "name": "python",
   "nbconvert_exporter": "python",
   "pygments_lexer": "ipython3",
   "version": "3.7.3"
  }
 },
 "nbformat": 4,
 "nbformat_minor": 2
}
