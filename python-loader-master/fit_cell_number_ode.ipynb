{
 "cells": [
  {
   "cell_type": "code",
   "execution_count": 32,
   "metadata": {},
   "outputs": [],
   "source": [
    "import numpy as np\n",
    "import pandas as pd\n",
    "import scipy\n",
    "import matplotlib.pyplot as plt \n",
    "from pyMCDS import pyMCDS\n",
    "from scipy.integrate import odeint"
   ]
  },
  {
   "cell_type": "code",
   "execution_count": 33,
   "metadata": {},
   "outputs": [],
   "source": [
    "mcds = pyMCDS('output00000003.xml', \n",
    "              'C:\\\\Users\\zeXal\\Desktop\\stem_cells-master-1\\stem_cells-master\\output_death_rate_002')"
   ]
  },
  {
   "cell_type": "code",
   "execution_count": 34,
   "metadata": {},
   "outputs": [
    {
     "name": "stdout",
     "output_type": "stream",
     "text": [
      "cell number is : 2017\n",
      "First ten cell types are : [1. 1. 1. 1. 1. 1. 1. 1. 1. 1.]\n"
     ]
    }
   ],
   "source": [
    "# cell type\n",
    "all_type= mcds.data['discrete_cells']['cell_type']\n",
    "print('cell number is : {}'.format(all_type.size))\n",
    "print('First ten cell types are : {}'.format(all_type[0:10]))"
   ]
  },
  {
   "cell_type": "code",
   "execution_count": 35,
   "metadata": {},
   "outputs": [
    {
     "name": "stdout",
     "output_type": "stream",
     "text": [
      "cell number is : 2017\n",
      "first ten members are [100.   5.   5.   5. 100.   5. 100. 100.   5.   5.]\n"
     ]
    }
   ],
   "source": [
    "# cell cyle type\n",
    "cycle_models = mcds.data['discrete_cells']['cycle_model']\n",
    "print('cell number is : {}'.format(cycle_models.size))\n",
    "print('first ten members are {}'.format(cycle_models[0:10]))"
   ]
  },
  {
   "cell_type": "code",
   "execution_count": 36,
   "metadata": {},
   "outputs": [
    {
     "name": "stdout",
     "output_type": "stream",
     "text": [
      " Total cell number is:  2017 \r",
      " \n",
      " Type1 cell number is:  721 \r",
      " \n",
      " Type2 cell number is:  5 \r",
      " \n",
      " Death cell number is:  1291\n"
     ]
    }
   ],
   "source": [
    "number_of_cells = all_type.size\n",
    "live1_count = 0\n",
    "live2_count = 0\n",
    "for n in range(number_of_cells):\n",
    "    cell_type = np.int( all_type[n] )\n",
    "    cycle_model = np.int( cycle_models[n] )\n",
    "    \n",
    "    # cylce_model = 100 is dead cell\n",
    "    if(cell_type==1 and cycle_model!=100):\n",
    "        live1_count +=1\n",
    "    if(cell_type==2 and cycle_model!=100):\n",
    "        live2_count +=1\n",
    "dead_cell = number_of_cells-live1_count-live2_count\n",
    "print (' Total cell number is:  {} \\r \\n Type1 cell number is:  {} \\r \\n Type2 cell number is:  {} \\r \\n Death cell number is:  {}'.format(number_of_cells,live1_count,live2_count,dead_cell))"
   ]
  },
  {
   "cell_type": "code",
   "execution_count": 37,
   "metadata": {},
   "outputs": [],
   "source": [
    "def count_live_cells(mcds):\n",
    "    all_type= mcds.data['discrete_cells']['cell_type']\n",
    "    cycle_models = mcds.data['discrete_cells']['cycle_model']\n",
    "    number_of_cells = all_type.size\n",
    "    live1_count = 0\n",
    "    live2_count = 0\n",
    "    for n in range(number_of_cells):\n",
    "        cell_type = np.int( all_type[n] )\n",
    "        cycle_model = np.int( cycle_models[n] )\n",
    "    \n",
    "    # cylce_model = 100 is dead cell\n",
    "        if(cell_type==1 and cycle_model!=100):\n",
    "            live1_count +=1\n",
    "        if(cell_type==2 and cycle_model!=100):\n",
    "            live2_count +=1\n",
    "    dead_cell = number_of_cells-live1_count-live2_count\n",
    "    return live1_count,live2_count"
   ]
  },
  {
   "cell_type": "code",
   "execution_count": 38,
   "metadata": {},
   "outputs": [],
   "source": [
    "def solv_ode45_normal(z0,t_total):\n",
    "    # z0 is the column vector of initial condition \n",
    "    \n",
    "    # time points\n",
    "    t = np.linspace(0,t_total,np.floor(t_total/1440*10000))\n",
    "     # solve ODE\n",
    "    z = odeint(model,z0,t)  \n",
    "    return z[:,0],z[:,1],t"
   ]
  },
  {
   "cell_type": "code",
   "execution_count": 39,
   "metadata": {},
   "outputs": [],
   "source": [
    "def apply_radio_therapy(x,y,d):\n",
    "    # z is the matrix of solution to the ode\n",
    "    x = x[-1]\n",
    "    y = y[-1]\n",
    "    x = x*np.exp(-alpha1*d-beta1*(d**2))+c0*d*y\n",
    "    y = y*np.exp(-alpha2*d-beta2*(d**2))-c0*d*y\n",
    "    z = [x,y]\n",
    "    return z"
   ]
  },
  {
   "cell_type": "code",
   "execution_count": 40,
   "metadata": {},
   "outputs": [],
   "source": [
    "def one_thearpy(u_lst,v_lst,t_elpse):\n",
    "    z0  = apply_radio_therapy(u_lst,v_lst,d)\n",
    "    u_lst[-1] = z0[0]\n",
    "    v_lst[-1] = z0[1]\n",
    "    return u_lst,v_lst,t_elpse"
   ]
  },
  {
   "cell_type": "code",
   "execution_count": 41,
   "metadata": {},
   "outputs": [],
   "source": [
    "def one_growth(u_lst,v_lst,t_elpse,t_mean):\n",
    "    z0 =[u_lst[-1],v_lst[-1]]\n",
    "    xl,yl,t = solv_ode45_normal(z0,t_mean)\n",
    "    t_elpse += t_mean\n",
    "    u_lst = np.append(u_lst,xl)\n",
    "    v_lst = np.append(v_lst,yl)\n",
    "    return u_lst,v_lst,t_elpse"
   ]
  },
  {
   "cell_type": "code",
   "execution_count": 42,
   "metadata": {},
   "outputs": [],
   "source": [
    "def model(z,t):\n",
    "    dxdt =   v*z[0]*(2*p-1)\n",
    "    dydt = 2*v*z[0]*(1-p)  + v*z[1]\n",
    "    dzdt = [dxdt,dydt]\n",
    "    return dzdt"
   ]
  },
  {
   "cell_type": "code",
   "execution_count": 43,
   "metadata": {},
   "outputs": [],
   "source": [
    "def plot_ode45(xl,yl,t):\n",
    "    # plot results\n",
    "    plt.plot(t,xl,'b-',label=r'CSC ode')\n",
    "    plt.plot(t,yl,'r-',label=r'DCC ode')\n",
    "    plt.plot(t,xl+yl,'g-',label=r'total ode')\n",
    "    plt.ylabel('cell number')\n",
    "    plt.xlabel('time')\n",
    "    plt.legend(loc='best')"
   ]
  },
  {
   "cell_type": "code",
   "execution_count": 44,
   "metadata": {},
   "outputs": [],
   "source": [
    "v = 1/60/60 # division rate per min\n",
    "p = 0.8 # probabilty stays stem cell after division\n",
    "t_total = 14400 # time min\n",
    "alpha1 = 0.2\n",
    "beta1  = 0.05\n",
    "alpha2 = 0.2\n",
    "beta2  = 0.05\n",
    "c0     = 0"
   ]
  },
  {
   "cell_type": "code",
   "execution_count": 45,
   "metadata": {
    "scrolled": true
   },
   "outputs": [
    {
     "name": "stdout",
     "output_type": "stream",
     "text": [
      "total final is around 21025.421933744816\n"
     ]
    },
    {
     "name": "stderr",
     "output_type": "stream",
     "text": [
      "C:\\Users\\zeXal\\Anaconda3\\lib\\site-packages\\ipykernel_launcher.py:5: DeprecationWarning: object of type <class 'numpy.float64'> cannot be safely interpreted as an integer.\n",
      "  \"\"\"\n"
     ]
    }
   ],
   "source": [
    "z0 = [20000,0]\n",
    "d  = 1 # dose\n",
    "t_before_thearpy = 12*60 # start 12 hours untreated\n",
    "t_after_thearpy = 6*60 # last 6 hours after thearpy\n",
    "t_elpse = 0\n",
    "u_lst = []\n",
    "v_lst = []\n",
    "# solve ODE\n",
    "xl,yl,t = solv_ode45_normal(z0,t_before_thearpy)\n",
    "t_elpse += t_before_thearpy\n",
    "u_lst = np.append(u_lst,xl)\n",
    "v_lst = np.append(v_lst,yl)\n",
    "u_lst,v_lst,t_elpse = one_thearpy(u_lst,v_lst,t_elpse)\n",
    "u_lst,v_lst,t_elpse = one_growth(u_lst,v_lst,t_elpse,t_after_thearpy)\n",
    "print('total final is around {}'.format(u_lst[-1]+v_lst[-1]))\n",
    "# plot_ode45(u_lst,v_lst,t = np.linspace(0,t_elpse,len(u_lst)))"
   ]
  },
  {
   "cell_type": "code",
   "execution_count": 46,
   "metadata": {},
   "outputs": [],
   "source": [
    "def get_data(directory,first_index, increment, last_index):\n",
    "    number_of_files = np.int( np.floor( (last_index-first_index)/increment)+1);\n",
    "    type1_matrix = np.zeros(number_of_files)\n",
    "    type2_matrix = np.zeros(number_of_files)\n",
    "    time_matrix  = np.zeros(number_of_files)\n",
    "    for i in range( first_index, last_index+1 , increment ):\n",
    "        # use python version of sprintf( 'output%08i.xml', i )\n",
    "        new_str = \"output%08d.xml\" % i\n",
    "        mcds = pyMCDS(new_str,directory)\n",
    "        live1, live2 = count_live_cells( mcds )\n",
    "        type1_matrix[i] = live1\n",
    "        type2_matrix[i] = live2\n",
    "        time_matrix[i]  = mcds.get_time()\n",
    "    return type1_matrix,type2_matrix,time_matrix"
   ]
  },
  {
   "cell_type": "code",
   "execution_count": 47,
   "metadata": {},
   "outputs": [],
   "source": [
    "direc_lst    = 'C:\\\\Users\\zeXal\\Desktop\\stem_cells-master-1_20000\\stem_cells-master\\output'\n",
    "type1_matrix,type2_matrix,time_matrix=get_data(direc_lst,0,1,108)"
   ]
  },
  {
   "cell_type": "code",
   "execution_count": 48,
   "metadata": {},
   "outputs": [],
   "source": [
    "def plot_data(type1_matrix,type2_matrix,time_matrix):\n",
    "    plt.plot(time_matrix,type1_matrix,'bo',label='CSC simulation')\n",
    "    plt.plot(time_matrix,type2_matrix,'ro',label='DCC simulation')\n",
    "    plt.plot(time_matrix,type2_matrix+type1_matrix,'go',label='total simulation')\n",
    "    plt.legend()"
   ]
  },
  {
   "cell_type": "code",
   "execution_count": 49,
   "metadata": {},
   "outputs": [
    {
     "data": {
      "text/plain": [
       "(0, 25000)"
      ]
     },
     "execution_count": 49,
     "metadata": {},
     "output_type": "execute_result"
    },
    {
     "data": {
      "image/png": "[encoded data removed]",
      "text/plain": [
       "<Figure size 1152x720 with 3 Axes>"
      ]
     },
     "metadata": {
      "needs_background": "light"
     },
     "output_type": "display_data"
    }
   ],
   "source": [
    "plt.figure(figsize=(16,10))\n",
    "plt.subplot(2,2,1)\n",
    "plot_data(type1_matrix,type2_matrix,time_matrix)\n",
    "plt.title('Pyhsicell simulation results')\n",
    "plt.ylim(0,25000)\n",
    "plt.subplot(2,2,2)\n",
    "plot_ode45(u_lst,v_lst,t = np.linspace(0,t_elpse,len(u_lst)))\n",
    "plt.title('ODE simulation results')\n",
    "plt.ylim(0,25000)\n",
    "plt.subplot(2,2,3)\n",
    "plot_data(type1_matrix,type2_matrix,time_matrix)\n",
    "plot_ode45(u_lst,v_lst,t = np.linspace(0,t_elpse,len(u_lst)))\n",
    "plt.title('total simulation results')\n",
    "plt.ylim(0,25000)"
   ]
  },
  {
   "cell_type": "code",
   "execution_count": 50,
   "metadata": {},
   "outputs": [],
   "source": [
    "ode_before_theartpy_u= u_lst[np.int(np.floor(len(u_lst)*2/3)-2)]\n",
    "ode_after_theartpy_u = u_lst[np.int(np.floor(len(u_lst)*2/3+1))]\n",
    "ode_end_value_u      = u_lst[-1]\n",
    "ode_u_survive_rate      = 1/(ode_before_theartpy_u/ode_after_theartpy_u)\n",
    "\n",
    "ode_before_theartpy_v= v_lst[np.int(np.floor(len(u_lst)*2/3)-2)]\n",
    "ode_after_theartpy_v = v_lst[np.int(np.floor(len(u_lst)*2/3+1))]\n",
    "ode_end_value_v      = v_lst[-1]\n",
    "ode_v_survive_rate      = 1/(ode_before_theartpy_v/ode_after_theartpy_v)\n",
    "\n",
    "ode_before_theartpy_total= ode_before_theartpy_u + ode_before_theartpy_v\n",
    "ode_after_theartpy_total = ode_after_theartpy_u + ode_after_theartpy_v\n",
    "ode_end_value_total      = ode_end_value_u + ode_end_value_v\n",
    "ode_total_survive_rate      = 1/(ode_before_theartpy_total/ode_after_theartpy_total)"
   ]
  },
  {
   "cell_type": "code",
   "execution_count": 51,
   "metadata": {},
   "outputs": [],
   "source": [
    "simulation_before_thearpy_u = type1_matrix[np.int(np.floor(len(type1_matrix)*2/3))]\n",
    "simulation_after_thearpy_u  = type1_matrix[np.int(np.floor(len(type1_matrix)*2/3+1))]\n",
    "simulation_end_value_u      = type1_matrix[-1]\n",
    "simulation_u_survive        = 1/(simulation_before_thearpy_u/simulation_after_thearpy_u)\n",
    "\n",
    "simulation_before_thearpy_v = type2_matrix[np.int(np.floor(len(type1_matrix)*2/3))]\n",
    "simulation_after_thearpy_v  = type2_matrix[np.int(np.floor(len(type1_matrix)*2/3+1))]\n",
    "simulation_end_value_v      = type2_matrix[-1]\n",
    "simulation_v_survive        = 1/(simulation_before_thearpy_v/simulation_after_thearpy_v)\n",
    "\n",
    "simulation_before_thearpy_total = simulation_before_thearpy_u +simulation_end_value_v\n",
    "simulation_after_thearpy_total  = simulation_after_thearpy_u + simulation_after_thearpy_v\n",
    "simulation_end_value_total      = simulation_end_value_u + simulation_end_value_v\n",
    "simulation_total_survive        = 1/(simulation_before_thearpy_total/simulation_after_thearpy_total)"
   ]
  },
  {
   "cell_type": "code",
   "execution_count": 52,
   "metadata": {},
   "outputs": [
    {
     "data": {
      "text/html": [
       "<div>\n",
       "<style scoped>\n",
       "    .dataframe tbody tr th:only-of-type {\n",
       "        vertical-align: middle;\n",
       "    }\n",
       "\n",
       "    .dataframe tbody tr th {\n",
       "        vertical-align: top;\n",
       "    }\n",
       "\n",
       "    .dataframe thead th {\n",
       "        text-align: right;\n",
       "    }\n",
       "</style>\n",
       "<table border=\"1\" class=\"dataframe\">\n",
       "  <thead>\n",
       "    <tr style=\"text-align: right;\">\n",
       "      <th></th>\n",
       "      <th>Before Thearpy</th>\n",
       "      <th>After Thearpy</th>\n",
       "      <th>Survival Rate</th>\n",
       "      <th>End Value</th>\n",
       "    </tr>\n",
       "  </thead>\n",
       "  <tbody>\n",
       "    <tr>\n",
       "      <th>ODE result CSC</th>\n",
       "      <td>22549.395731</td>\n",
       "      <td>17562.330278</td>\n",
       "      <td>0.778838</td>\n",
       "      <td>18647.876398</td>\n",
       "    </tr>\n",
       "    <tr>\n",
       "      <th>simulation CSC</th>\n",
       "      <td>22550.000000</td>\n",
       "      <td>17627.000000</td>\n",
       "      <td>0.781685</td>\n",
       "      <td>18598.000000</td>\n",
       "    </tr>\n",
       "    <tr>\n",
       "      <th>ODE result DCC</th>\n",
       "      <td>1877.682137</td>\n",
       "      <td>1463.019518</td>\n",
       "      <td>0.779163</td>\n",
       "      <td>2377.545535</td>\n",
       "    </tr>\n",
       "    <tr>\n",
       "      <th>simulation DCC</th>\n",
       "      <td>1854.000000</td>\n",
       "      <td>1473.000000</td>\n",
       "      <td>0.794498</td>\n",
       "      <td>2343.000000</td>\n",
       "    </tr>\n",
       "    <tr>\n",
       "      <th>ODE result Total</th>\n",
       "      <td>24427.077869</td>\n",
       "      <td>19025.349796</td>\n",
       "      <td>0.778863</td>\n",
       "      <td>21025.421934</td>\n",
       "    </tr>\n",
       "    <tr>\n",
       "      <th>simulation Total</th>\n",
       "      <td>24893.000000</td>\n",
       "      <td>19100.000000</td>\n",
       "      <td>0.767284</td>\n",
       "      <td>20941.000000</td>\n",
       "    </tr>\n",
       "  </tbody>\n",
       "</table>\n",
       "</div>"
      ],
      "text/plain": [
       "                  Before Thearpy  After Thearpy  Survival Rate     End Value\n",
       "ODE result CSC      22549.395731   17562.330278       0.778838  18647.876398\n",
       "simulation CSC      22550.000000   17627.000000       0.781685  18598.000000\n",
       "ODE result DCC       1877.682137    1463.019518       0.779163   2377.545535\n",
       "simulation DCC       1854.000000    1473.000000       0.794498   2343.000000\n",
       "ODE result Total    24427.077869   19025.349796       0.778863  21025.421934\n",
       "simulation Total    24893.000000   19100.000000       0.767284  20941.000000"
      ]
     },
     "execution_count": 52,
     "metadata": {},
     "output_type": "execute_result"
    }
   ],
   "source": [
    "import pandas as pd\n",
    "data = [[ode_before_theartpy_u, ode_after_theartpy_u,ode_u_survive_rate,ode_end_value_u],\n",
    "        [simulation_before_thearpy_u, simulation_after_thearpy_u,simulation_u_survive,simulation_end_value_u],\n",
    "        [ode_before_theartpy_v, ode_after_theartpy_v,ode_v_survive_rate,ode_end_value_v],\n",
    "        [simulation_before_thearpy_v, simulation_after_thearpy_v,simulation_v_survive,simulation_end_value_v],\n",
    "        [ode_before_theartpy_total, ode_after_theartpy_total,ode_total_survive_rate,ode_end_value_total],\n",
    "       [simulation_before_thearpy_total, simulation_after_thearpy_total,simulation_total_survive,simulation_end_value_total]]\n",
    "\n",
    "df = pd.DataFrame(data, columns=[ \"Before Thearpy\",\"After Thearpy\",\"Survival Rate\",\"End Value\"])\n",
    "s = pd.Series(['ODE result CSC',  'simulation CSC','ODE result DCC', 'simulation DCC','ODE result Total',  'simulation Total'])\n",
    "df.set_index([s])"
   ]
  },
  {
   "cell_type": "code",
   "execution_count": 53,
   "metadata": {},
   "outputs": [
    {
     "name": "stdout",
     "output_type": "stream",
     "text": [
      "3\n"
     ]
    }
   ],
   "source": [
    "d = 1\n",
    "print(d^2)"
   ]
  },
  {
   "cell_type": "code",
   "execution_count": 54,
   "metadata": {},
   "outputs": [],
   "source": [
    "def model_feedback(z,t):\n",
    "    # z0 is the column vector of initial condition \n",
    "    dxdt =   (v/(1+h*z[2]**k))*z[0]*(2*(p/(1+l*z[2]**n))-1)\n",
    "    dydt = 2*(v/(1+h*z[2]**k))*z[0]*(1-(p/(1+l*z[2]**n)))    + (v/(1+h*z[2]**k))*z[1]\n",
    "    dcdt =                                                   factor_release_rate*z[1]\n",
    "    dzdt = [dxdt,dydt,dcdt]\n",
    "    return dzdt"
   ]
  },
  {
   "cell_type": "code",
   "execution_count": 55,
   "metadata": {},
   "outputs": [],
   "source": [
    "def model_feedback1(z,t):\n",
    "    # z0 is the column vector of initial condition \n",
    "    dxdt =   (v/(1+h*z[2]**k))*z[0]*(2*p-1)\n",
    "    dydt = 2*(v/(1+h*z[2]**k))*z[0]*(1-p)    + (v/(1+h*z[2]**k))*z[1]\n",
    "    dcdt =                                   factor_release_rate*z[1]\n",
    "    dzdt = [dxdt,dydt,dcdt]\n",
    "    return dzdt"
   ]
  },
  {
   "cell_type": "code",
   "execution_count": 56,
   "metadata": {},
   "outputs": [],
   "source": [
    "def solv_ode45_feedback(z0,t_total):\n",
    "    # z0 is the column vector of initial condition \n",
    "    \n",
    "    # time points\n",
    "    t = np.linspace(0,t_total,np.floor(t_total/1440*10000))\n",
    "     # solve ODE\n",
    "    z = odeint(model_feedback1,z0,t)  \n",
    "    return z[:,0],z[:,1],z[-1,2],t"
   ]
  },
  {
   "cell_type": "code",
   "execution_count": 57,
   "metadata": {},
   "outputs": [
    {
     "name": "stdout",
     "output_type": "stream",
     "text": [
      "total final cell is around 10090.324331959471, factor C is 346.05479273369747\n"
     ]
    },
    {
     "name": "stderr",
     "output_type": "stream",
     "text": [
      "C:\\Users\\zeXal\\Anaconda3\\lib\\site-packages\\ipykernel_launcher.py:5: DeprecationWarning: object of type <class 'numpy.float64'> cannot be safely interpreted as an integer.\n",
      "  \"\"\"\n"
     ]
    }
   ],
   "source": [
    "z0 = [10000,0,0]\n",
    "factor_release_rate = 0.01 # 0.0000001\n",
    "h  = 1\n",
    "k  = 1\n",
    "l  = 1\n",
    "n  = 1\n",
    "d  = 1 # dose\n",
    "t_before_thearpy = 18*60 # start 12 hours untreated\n",
    "t_elpse = 0\n",
    "u_lst = []\n",
    "v_lst = []\n",
    "# solve ODE\n",
    "xl,yl,cl,t = solv_ode45_feedback(z0,t_before_thearpy)\n",
    "t_elpse += t_before_thearpy\n",
    "u_lst = np.append(u_lst,xl)\n",
    "v_lst = np.append(v_lst,yl)\n",
    "print('total final cell is around {}, factor C is {}'.format(u_lst[-1]+v_lst[-1],cl))"
   ]
  },
  {
   "cell_type": "code",
   "execution_count": 58,
   "metadata": {},
   "outputs": [],
   "source": [
    "direc_lst    = 'C:\\\\Users\\zeXal\\Desktop\\stem_cells-master-1\\stem_cells-master\\output_feedback00000001'\n",
    "type1_matrix,type2_matrix,time_matrix=get_data(direc_lst,0,1,18)"
   ]
  },
  {
   "cell_type": "code",
   "execution_count": 59,
   "metadata": {},
   "outputs": [
    {
     "data": {
      "text/plain": [
       "(0, 25000)"
      ]
     },
     "execution_count": 59,
     "metadata": {},
     "output_type": "execute_result"
    },
    {
     "data": {
      "image/png": "[encoded data removed]",
      "text/plain": [
       "<Figure size 1152x720 with 3 Axes>"
      ]
     },
     "metadata": {
      "needs_background": "light"
     },
     "output_type": "display_data"
    }
   ],
   "source": [
    "plt.figure(figsize=(16,10))\n",
    "plt.subplot(2,2,1)\n",
    "plot_data(type1_matrix,type2_matrix,time_matrix)\n",
    "plt.title('Pyhsicell simulation results')\n",
    "plt.ylim(0,25000)\n",
    "plt.subplot(2,2,2)\n",
    "plot_ode45(u_lst,v_lst,t = np.linspace(0,t_elpse,len(u_lst)))\n",
    "plt.title('ODE simulation results')\n",
    "plt.ylim(0,25000)\n",
    "plt.subplot(2,2,3)\n",
    "plot_data(type1_matrix,type2_matrix,time_matrix)\n",
    "plot_ode45(u_lst,v_lst,t = np.linspace(0,t_elpse,len(u_lst)))\n",
    "plt.title('total simulation results')\n",
    "plt.ylim(0,25000)"
   ]
  },
  {
   "cell_type": "code",
   "execution_count": 60,
   "metadata": {},
   "outputs": [
    {
     "name": "stdout",
     "output_type": "stream",
     "text": [
      "total final cell is around 10090.324331959471, factor C is 346.05479273369747\n"
     ]
    },
    {
     "name": "stderr",
     "output_type": "stream",
     "text": [
      "C:\\Users\\zeXal\\Anaconda3\\lib\\site-packages\\ipykernel_launcher.py:5: DeprecationWarning: object of type <class 'numpy.float64'> cannot be safely interpreted as an integer.\n",
      "  \"\"\"\n"
     ]
    }
   ],
   "source": [
    "z0 = [10000,0,0]\n",
    "factor_release_rate = 0.01 # 0.0000001\n",
    "h  = 1\n",
    "k  = 1\n",
    "l  = 1\n",
    "n  = 1\n",
    "d  = 1 # dose\n",
    "t_before_thearpy = 18*60 # start 12 hours untreated\n",
    "t_elpse = 0\n",
    "u_lst = []\n",
    "v_lst = []\n",
    "# solve ODE\n",
    "xl,yl,cl,t = solv_ode45_feedback(z0,t_before_thearpy)\n",
    "t_elpse += t_before_thearpy\n",
    "u_lst = np.append(u_lst,xl)\n",
    "v_lst = np.append(v_lst,yl)\n",
    "print('total final cell is around {}, factor C is {}'.format(u_lst[-1]+v_lst[-1],cl))"
   ]
  },
  {
   "cell_type": "code",
   "execution_count": 61,
   "metadata": {},
   "outputs": [
    {
     "data": {
      "text/plain": [
       "(0, 25000)"
      ]
     },
     "execution_count": 61,
     "metadata": {},
     "output_type": "execute_result"
    },
    {
     "data": {
      "image/png": "[encoded data removed]",
      "text/plain": [
       "<Figure size 1152x720 with 3 Axes>"
      ]
     },
     "metadata": {
      "needs_background": "light"
     },
     "output_type": "display_data"
    }
   ],
   "source": [
    "direc_lst    = 'C:\\\\Users\\zeXal\\Desktop\\stem_cells-master-1\\stem_cells-master\\output'\n",
    "type1_matrix,type2_matrix,time_matrix=get_data(direc_lst,0,1,18)\n",
    "\n",
    "plt.figure(figsize=(16,10))\n",
    "plt.subplot(2,2,1)\n",
    "plot_data(type1_matrix,type2_matrix,time_matrix)\n",
    "plt.title('Pyhsicell simulation results')\n",
    "plt.ylim(0,25000)\n",
    "plt.subplot(2,2,2)\n",
    "plot_ode45(u_lst,v_lst,t = np.linspace(0,t_elpse,len(u_lst)))\n",
    "plt.title('ODE simulation results')\n",
    "plt.ylim(0,25000)\n",
    "plt.subplot(2,2,3)\n",
    "plot_data(type1_matrix,type2_matrix,time_matrix)\n",
    "plot_ode45(u_lst,v_lst,t = np.linspace(0,t_elpse,len(u_lst)))\n",
    "plt.title('total simulation results')\n",
    "plt.ylim(0,25000)"
   ]
  },
  {
   "cell_type": "code",
   "execution_count": 62,
   "metadata": {},
   "outputs": [],
   "source": [
    "def get_micro(directory,first_index, increment, last_index):\n",
    "    number_of_files = np.int( np.floor( (last_index-first_index)/increment)+1);\n",
    "    fctorC_matrix = np.zeros(number_of_files)\n",
    "    for i in range( first_index, last_index+1 , increment ):\n",
    "        # use python version of sprintf( 'output%08i.xml', i )\n",
    "        new_str = \"output%08d.xml\" % i\n",
    "        mcds = pyMCDS(new_str,directory)\n",
    "        factorC_matrix[i] = mcds.data['continuum_variables']['factorC']\n",
    "    return type1_matrix,type2_matrix,time_matrix"
   ]
  },
  {
   "cell_type": "code",
   "execution_count": 63,
   "metadata": {},
   "outputs": [],
   "source": [
    "directory    = 'C:\\\\Users\\zeXal\\Desktop\\stem_cells-master-1\\stem_cells-master\\output'\n",
    "new_str = \"output%08d.xml\" % 12\n",
    "mcds = pyMCDS(new_str,directory)\n",
    "fac_con = mcds.get_concentrations('factorC')"
   ]
  },
  {
   "cell_type": "code",
   "execution_count": 64,
   "metadata": {},
   "outputs": [
    {
     "data": {
      "text/plain": [
       "(array([ 14,  14,  14, ..., 134, 135, 135], dtype=int64),\n",
       " array([ 20,  26,  88, ..., 127,  72,  73], dtype=int64),\n",
       " array([0, 0, 0, ..., 0, 0, 0], dtype=int64))"
      ]
     },
     "execution_count": 64,
     "metadata": {},
     "output_type": "execute_result"
    }
   ],
   "source": [
    "np.where(fac_con!=0)"
   ]
  },
  {
   "cell_type": "code",
   "execution_count": 65,
   "metadata": {},
   "outputs": [
    {
     "data": {
      "text/plain": [
       "(2353,)"
      ]
     },
     "execution_count": 65,
     "metadata": {},
     "output_type": "execute_result"
    }
   ],
   "source": [
    "fac_x = np.where(fac_con!=0)[0]\n",
    "fac_x.shape"
   ]
  },
  {
   "cell_type": "code",
   "execution_count": 66,
   "metadata": {},
   "outputs": [
    {
     "data": {
      "text/plain": [
       "array([1473.6435009])"
      ]
     },
     "execution_count": 66,
     "metadata": {},
     "output_type": "execute_result"
    }
   ],
   "source": [
    "sum(sum(fac_con))"
   ]
  },
  {
   "cell_type": "code",
   "execution_count": 67,
   "metadata": {},
   "outputs": [
    {
     "data": {
      "text/plain": [
       "(150, 150, 1)"
      ]
     },
     "execution_count": 67,
     "metadata": {},
     "output_type": "execute_result"
    }
   ],
   "source": [
    "fac_con.shape"
   ]
  },
  {
   "cell_type": "code",
   "execution_count": 68,
   "metadata": {},
   "outputs": [
    {
     "data": {
      "text/plain": [
       "22500"
      ]
     },
     "execution_count": 68,
     "metadata": {},
     "output_type": "execute_result"
    }
   ],
   "source": [
    "150**2"
   ]
  },
  {
   "cell_type": "code",
   "execution_count": null,
   "metadata": {},
   "outputs": [],
   "source": []
  }
 ],
 "metadata": {
  "kernelspec": {
   "display_name": "Python 3",
   "language": "python",
   "name": "python3"
  },
  "language_info": {
   "codemirror_mode": {
    "name": "ipython",
    "version": 3
   },
   "file_extension": ".py",
   "mimetype": "text/x-python",
   "name": "python",
   "nbconvert_exporter": "python",
   "pygments_lexer": "ipython3",
   "version": "3.7.4"
  }
 },
 "nbformat": 4,
 "nbformat_minor": 2
}
