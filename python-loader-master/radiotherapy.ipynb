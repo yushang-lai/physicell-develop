{
 "cells": [
  {
   "cell_type": "code",
   "execution_count": 22,
   "metadata": {},
   "outputs": [],
   "source": [
    "import numpy as np\n",
    "import pandas as pd\n",
    "import scipy\n",
    "import matplotlib.pyplot as plt \n",
    "from pyMCDS import pyMCDS\n",
    "from scipy.integrate import odeint"
   ]
  },
  {
   "cell_type": "code",
   "execution_count": 23,
   "metadata": {},
   "outputs": [],
   "source": [
    "v = 1/60/60 # division rate per min\n",
    "p = 0.8 # probabilty stays stem cell after division\n",
    "t_total = 14400 # time min\n",
    "alpha1 = 0.2\n",
    "beta1  = 0.05\n",
    "alpha2 = 0.2\n",
    "beta2  = 0.05\n",
    "c0     = 0"
   ]
  },
  {
   "cell_type": "code",
   "execution_count": 24,
   "metadata": {},
   "outputs": [
    {
     "data": {
      "text/plain": [
       "1"
      ]
     },
     "execution_count": 24,
     "metadata": {},
     "output_type": "execute_result"
    }
   ],
   "source": [
    "mcds = pyMCDS('output00000000.xml' , 'C:\\\\Users\\zeXal\\Desktop\\stem_cells-master-1\\stem_cells-master\\output_therapy1')\n",
    "all_type = mcds.data['discrete_cells']['cell_type']\n",
    "cycle_models = mcds.data['discrete_cells']['cycle_model']\n",
    "\n",
    "np.int( all_type[0] )\n"
   ]
  },
  {
   "cell_type": "code",
   "execution_count": 27,
   "metadata": {},
   "outputs": [],
   "source": [
    "number_of_cells = all_type.shape[0]\n",
    "\n",
    "def lepard( sugar ):\n",
    "    print( 'pour some on me')\n",
    "    \n",
    "def count_live_cells( mcds ):\n",
    "    all_type = mcds.data['discrete_cells']['cell_type']\n",
    "    cycle_models = mcds.data['discrete_cells']['cycle_model']\n",
    "    number_of_cells = np.int( all_type.shape[0] )\n",
    "    live1_count = 0; \n",
    "    live2_count = 0; \n",
    "    for n in range( 0, number_of_cells ):\n",
    "        cycle_model = np.int( cycle_models[n] );\n",
    "        cell_type = np.int( all_type[n] );\n",
    "        if( cycle_model < 100 ):\n",
    "            if( cell_type == 1 ):\n",
    "                live1_count += 1;\n",
    "            if( cell_type == 2 ):\n",
    "                live2_count +=1; \n",
    "    return live1_count, live2_count; "
   ]
  },
  {
   "cell_type": "code",
   "execution_count": null,
   "metadata": {},
   "outputs": [],
   "source": []
  },
  {
   "cell_type": "code",
   "execution_count": 28,
   "metadata": {},
   "outputs": [
    {
     "name": "stdout",
     "output_type": "stream",
     "text": [
      "1122\n",
      "76\n",
      "1057\n",
      "30\n",
      "1122\n",
      "76\n",
      "0\n",
      "2\n",
      "4\n",
      "6\n",
      "8\n",
      "10\n"
     ]
    }
   ],
   "source": [
    "live1, live2 = count_live_cells( mcds )\n",
    "print( live1 )\n",
    "print( live2 )\n",
    "\n",
    "mcds = pyMCDS('output00000001.xml' , 'C:\\\\Users\\zeXal\\Desktop\\stem_cells-master-1\\stem_cells-master\\output_therapy1')\n",
    "\n",
    "live1, live2 = count_live_cells( mcds )\n",
    "print( live1 )\n",
    "print( live2 )\n",
    "\n",
    "mcds = pyMCDS('output00000002.xml' , 'C:\\\\Users\\zeXal\\Desktop\\stem_cells-master-1\\stem_cells-master\\output_therapy1')\n",
    "\n",
    "live1, live2 = count_live_cells( mcds )\n",
    "print( live1 )\n",
    "print( live2 )\n",
    "\n",
    "\n",
    "for n in range(0,10+1,2):\n",
    "    print(n)\n",
    "    \n",
    "    \n",
    "\n"
   ]
  },
  {
   "cell_type": "code",
   "execution_count": 45,
   "metadata": {
    "scrolled": true
   },
   "outputs": [],
   "source": [
    "def get_data_old(direc_lst,file_number,i):\n",
    "    \n",
    "    type1_matrix = np.zeros((len(direc_lst),file_number))\n",
    "    type2_matrix = np.zeros((len(direc_lst),file_number))\n",
    "    type3_matrix = np.zeros((len(direc_lst),file_number))\n",
    "    time_matrix  = np.zeros((len(direc_lst),file_number))\n",
    "    if i ==1:\n",
    "        k =1\n",
    "    else:\n",
    "        k = len(direc_lst) \n",
    "    for j in range(20):    \n",
    "        for i in range(1,file_number):\n",
    "            if i>=10:\n",
    "                new_str = str(i);\n",
    "            else:\n",
    "                new_str = '0'+str(i)\n",
    "            my_str = 'output000000'+new_str +'.xml'\n",
    "            mcds = pyMCDS(my_str,direc_lst[j])\n",
    "            \n",
    "            live1, live2 = count_live_cells( mcds )\n",
    "            \n",
    "            type1_matrix[j][i] = live1\n",
    "            type2_matrix[j][i] = live2\n",
    "            \n",
    "            time_matrix[j][i]  = mcds.get_time()\n",
    "    return type1_matrix,type2_matrix,time_matrix\n",
    "\n",
    "def get_data(directory,first_index, increment, last_index):\n",
    "    number_of_files = np.int( np.floor( (last_index-first_index)/increment)+1 );\n",
    "    type1_matrix = np.zeros(number_of_files)\n",
    "    type2_matrix = np.zeros(number_of_files)\n",
    "    time_matrix  = np.zeros(number_of_files)\n",
    "    for i in range( first_index, last_index+1 , increment ):\n",
    "        # use python version of sprintf( 'output%08i.xml', i )\n",
    "        if i>=10:\n",
    "            new_str = str(i);\n",
    "        else:\n",
    "            new_str = '0'+str(i)\n",
    "        my_str = 'output000000'+new_str +'.xml'\n",
    "        mcds = pyMCDS(my_str,directory)\n",
    "        live1, live2 = count_live_cells( mcds )\n",
    "        type1_matrix[i] = live1\n",
    "        type2_matrix[i] = live2\n",
    "        time_matrix[i]  = mcds.get_time()\n",
    "    return type1_matrix,type2_matrix,time_matrix\n",
    "\n",
    "def plot_data(type1_matrix,type2_matrix,time_matrix):\n",
    "    plt.plot(time_matrix,type1_matrix,'bo-',label='CSC')\n",
    "    plt.plot(time_matrix,type2_matrix,'ro-',label='DCC')\n",
    "    plt.plot(time_matrix,type2_matrix+type1_matrix,'go-',label='total')\n",
    "    plt.legend()\n",
    "    plt.xlim(0, 15000)\n",
    "    plt.xlabel('figure {}'.format(1))\n",
    "    plt.ylim(0,8000)\n",
    "# ODE model\n",
    "\n",
    "\n",
    "def plot_multiple_old(type1_matrix,type2_matrix,time_matrix,file_index):\n",
    "    i = file_index\n",
    "    plt.plot(time_matrix[i,:],type1_matrix[i,:],'bo-',label='CSC')\n",
    "    plt.plot(time_matrix[i,:],type2_matrix[i,:],'ro-',label='DCC')\n",
    "    plt.plot(time_matrix[i,:],type2_matrix[i,:]+type1_matrix[i,:],'go-',label='total')\n",
    "    plt.legend()\n",
    "    plt.xlim(0, 15000)\n",
    "    plt.xlabel('figure {}'.format(i+1))\n",
    "    plt.ylim(0,8000)\n",
    "# ODE model\n",
    "\n",
    "def model(z,t):\n",
    "    dxdt =   v*z[0]*(2*p-1)\n",
    "    dydt = 2*v*z[0]*(1-p)  + v*z[1]\n",
    "    dzdt = [dxdt,dydt]\n",
    "    return dzdt\n",
    "\n",
    "def solv_ode45(z0,t_total):\n",
    "    # time points\n",
    "    t = np.linspace(0,t_total,np.floor(t_total/t_one_day*10000))\n",
    "     # solve ODE\n",
    "    z = odeint(model,z0,t)             \n",
    "    return z[:,0],z[:,1],t\n",
    "\n",
    "def plot_ode45(xl,yl,t):\n",
    "    # plot results\n",
    "    plt.plot(t,xl,'b-',label=r'CSC')\n",
    "    plt.plot(t,yl,'r-',label=r'DCC')\n",
    "    plt.plot(t,xl+yl,'g-',label=r'total')\n",
    "    plt.ylabel('cell number')\n",
    "    plt.xlabel('time')\n",
    "    plt.legend(loc='best')\n",
    "    plt.title('ODE model for Cell number no feedback and dedifferention')\n",
    "\n",
    "def apply_radio_therapy(x,y,d):\n",
    "    x = x[-1]\n",
    "    y = y[-1]\n",
    "    x = x*np.exp(-alpha1*d-beta1*(d^2))+c0*d*y\n",
    "    y = y*np.exp(-alpha2*d-beta2*(d^2))-c0*d*y\n",
    "    z = [x,y]\n",
    "    return z\n",
    "\n",
    "def one_thearpy(u_lst,v_lst,t_elpse):\n",
    "    z0  = apply_radio_therapy(u_lst,v_lst,d)\n",
    "    u_lst[-1] = z0[0]\n",
    "    v_lst[-1] = z0[1]\n",
    "    return u_lst,v_lst,t_elpse\n",
    "\n",
    "def one_growth(u_lst,v_lst,t_elpse,t_mean):\n",
    "    z0 =[u_lst[-1],v_lst[-1]]\n",
    "    xl,yl,t = solv_ode45(z0,t_mean)\n",
    "    t_elpse += t_mean\n",
    "    u_lst = np.append(u_lst,xl)\n",
    "    v_lst = np.append(v_lst,yl)\n",
    "    return u_lst,v_lst,t_elpse\n",
    "\n",
    "def one_week_thearpy(u_lst,v_lst,t_elpse):\n",
    "    for i in range(5):\n",
    "        z0  = apply_radio_therapy(u_lst,v_lst,d)\n",
    "        xl,yl,t = solv_ode45(z0,t_one_day)\n",
    "        t_elpse += t_one_day\n",
    "        u_lst = np.append(u_lst,xl)\n",
    "        v_lst = np.append(v_lst,yl)\n",
    "    z0 =[u_lst[-1],v_lst[-1]]\n",
    "    xl,yl,t = solv_ode45(z0,2*t_one_day)\n",
    "    t_elpse += 2*t_one_day\n",
    "    u_lst = np.append(u_lst,xl)\n",
    "    v_lst = np.append(v_lst,yl)\n",
    "    return u_lst,v_lst,t_elpse\n",
    "\n",
    "def model_feedback(z,t):\n",
    "    dxdt =   (v/(1+h*z[2]^k))*z[0]*(2*(p/(1+l*z[2]^n))-1)\n",
    "    dydt = 2*(v/(1+h*z[2]^k))*z[0]*(1-(p/(1+l*z[2]^n)))    + (v/(1+h*z[2]^k))*z[1]\n",
    "    dcdt =                                                            lambdal*z[1]\n",
    "    dzdt = [dxdt,dydt,dcdt]\n",
    "    return dzdt\n"
   ]
  },
  {
   "cell_type": "code",
   "execution_count": 46,
   "metadata": {},
   "outputs": [
    {
     "name": "stderr",
     "output_type": "stream",
     "text": [
      "C:\\Users\\zeXal\\Anaconda3\\lib\\site-packages\\ipykernel_launcher.py:77: DeprecationWarning: object of type <class 'numpy.float64'> cannot be safely interpreted as an integer.\n"
     ]
    },
    {
     "data": {
      "image/png": "[encoded data removed]",
      "text/plain": [
       "<Figure size 720x360 with 1 Axes>"
      ]
     },
     "metadata": {
      "needs_background": "light"
     },
     "output_type": "display_data"
    }
   ],
   "source": [
    "# without feedback\n",
    "# initial condition\n",
    "z0 = [1000,0]\n",
    "d  = 1\n",
    "t_one_day = 24*60\n",
    "t_before_thearpy = 24*60\n",
    "t_elpse = 0\n",
    "u_lst = []\n",
    "v_lst = []\n",
    "# solve ODE\n",
    "plt.figure(figsize=(10,5))\n",
    "xl,yl,t = solv_ode45(z0,t_before_thearpy)\n",
    "t_elpse += t_before_thearpy\n",
    "u_lst = np.append(u_lst,xl)\n",
    "v_lst = np.append(v_lst,yl)\n",
    "u_lst,v_lst,t_elpse = one_week_thearpy(u_lst,v_lst,t_elpse)\n",
    "plot_ode45(u_lst,v_lst,t = np.linspace(0,t_elpse,len(u_lst)))\n",
    "\n"
   ]
  },
  {
   "cell_type": "code",
   "execution_count": 47,
   "metadata": {},
   "outputs": [
    {
     "ename": "TypeError",
     "evalue": "get_data() missing 1 required positional argument: 'last_index'",
     "output_type": "error",
     "traceback": [
      "\u001b[1;31m---------------------------------------------------------------------------\u001b[0m",
      "\u001b[1;31mTypeError\u001b[0m                                 Traceback (most recent call last)",
      "\u001b[1;32m<ipython-input-47-7375c23ccd26>\u001b[0m in \u001b[0;36m<module>\u001b[1;34m\u001b[0m\n\u001b[0;32m      3\u001b[0m                 'C:\\\\Users\\zeXal\\Desktop\\stem_cells-master-1\\stem_cells-master\\output_therapy3') \n\u001b[0;32m      4\u001b[0m \u001b[1;33m\u001b[0m\u001b[0m\n\u001b[1;32m----> 5\u001b[1;33m \u001b[0mtype1_matrix\u001b[0m\u001b[1;33m,\u001b[0m\u001b[0mtype2_matrix\u001b[0m\u001b[1;33m,\u001b[0m\u001b[0mtime_matrix\u001b[0m\u001b[1;33m=\u001b[0m\u001b[0mget_data\u001b[0m\u001b[1;33m(\u001b[0m\u001b[0mdirec_lst\u001b[0m\u001b[1;33m,\u001b[0m\u001b[1;36m20\u001b[0m\u001b[1;33m,\u001b[0m\u001b[1;36m2\u001b[0m\u001b[1;33m)\u001b[0m\u001b[1;33m\u001b[0m\u001b[1;33m\u001b[0m\u001b[0m\n\u001b[0m",
      "\u001b[1;31mTypeError\u001b[0m: get_data() missing 1 required positional argument: 'last_index'"
     ]
    }
   ],
   "source": [
    "direc_lst    = ('C:\\\\Users\\zeXal\\Desktop\\stem_cells-master-1\\stem_cells-master\\output_therapy1',\n",
    "                'C:\\\\Users\\zeXal\\Desktop\\stem_cells-master-1\\stem_cells-master\\output_therapy2',\n",
    "                'C:\\\\Users\\zeXal\\Desktop\\stem_cells-master-1\\stem_cells-master\\output_therapy3') \n",
    "\n",
    "type1_matrix,type2_matrix,time_matrix=get_data(direc_lst,20,2)"
   ]
  },
  {
   "cell_type": "code",
   "execution_count": null,
   "metadata": {},
   "outputs": [],
   "source": [
    "f = plt.figure(figsize=(16,10))\n",
    "ax = f.add_subplot(221)\n",
    "plot_ode45(u_lst,v_lst,t = np.linspace(0,t_elpse,len(u_lst)))\n",
    "plt.ylim(0,8000)\n",
    "plt.xlim(0,14000)\n",
    "ax = f.add_subplot(222)\n",
    "plot_data(type1_matrix,type2_matrix,time_matrix,0)\n",
    "plt.title('Physicell simulation 1' )\n",
    "ax = f.add_subplot(223)\n",
    "plot_data(type1_matrix,type2_matrix,time_matrix,1)\n",
    "plt.title('Physicell simulation 2' )\n",
    "ax = f.add_subplot(224)\n",
    "plot_data(type1_matrix,type2_matrix,time_matrix,2)\n",
    "plt.title('Physicell simulation 3' )\n",
    "plt.show()"
   ]
  },
  {
   "cell_type": "code",
   "execution_count": null,
   "metadata": {},
   "outputs": [],
   "source": []
  },
  {
   "cell_type": "code",
   "execution_count": 48,
   "metadata": {},
   "outputs": [
    {
     "name": "stdout",
     "output_type": "stream",
     "text": [
      "total final is around 740.8182209307201\n"
     ]
    },
    {
     "name": "stderr",
     "output_type": "stream",
     "text": [
      "C:\\Users\\zeXal\\Anaconda3\\lib\\site-packages\\ipykernel_launcher.py:77: DeprecationWarning: object of type <class 'numpy.float64'> cannot be safely interpreted as an integer.\n"
     ]
    }
   ],
   "source": [
    "z0 = [1000,0]\n",
    "d  = 1\n",
    "t_one_day = 24*60\n",
    "t_before_thearpy = 6*60\n",
    "t_elpse = 0\n",
    "u_lst = []\n",
    "v_lst = []\n",
    "# solve ODE\n",
    "xl,yl,t = solv_ode45(z0,t_before_thearpy)\n",
    "t_elpse += t_before_thearpy\n",
    "u_lst = np.append(u_lst,xl)\n",
    "v_lst = np.append(v_lst,yl)\n",
    "t_mean = 360\n",
    "u_lst,v_lst,t_elpse = one_thearpy(u_lst,v_lst,t_elpse)\n",
    "u_lst,v_lst,t_elpse = one_growth(u_lst,v_lst,t_elpse,t_mean)\n",
    "u_lst,v_lst,t_elpse = one_thearpy(u_lst,v_lst,t_elpse)\n",
    "t_mean = 720\n",
    "u_lst,v_lst,t_elpse = one_growth(u_lst,v_lst,t_elpse,t_mean)\n",
    "print('total final is around {}'.format(u_lst[-1]+v_lst[-1]))"
   ]
  },
  {
   "cell_type": "code",
   "execution_count": 49,
   "metadata": {},
   "outputs": [
    {
     "ename": "TypeError",
     "evalue": "get_data() missing 1 required positional argument: 'last_index'",
     "output_type": "error",
     "traceback": [
      "\u001b[1;31m---------------------------------------------------------------------------\u001b[0m",
      "\u001b[1;31mTypeError\u001b[0m                                 Traceback (most recent call last)",
      "\u001b[1;32m<ipython-input-49-942cd69ff3f5>\u001b[0m in \u001b[0;36m<module>\u001b[1;34m\u001b[0m\n\u001b[0;32m      1\u001b[0m direc_lst    = ('C:\\\\Users\\zeXal\\Downloads\\stem_cells-master (1)\\stem_cells-master\\output',\n\u001b[0;32m      2\u001b[0m                 'C:\\\\Users\\zeXal\\Downloads\\stem_cells-master (1)\\stem_cells-master\\output')\n\u001b[1;32m----> 3\u001b[1;33m \u001b[0mtype1_matrix\u001b[0m\u001b[1;33m,\u001b[0m\u001b[0mtype2_matrix\u001b[0m\u001b[1;33m,\u001b[0m\u001b[0mtime_matrix\u001b[0m\u001b[1;33m=\u001b[0m\u001b[0mget_data\u001b[0m\u001b[1;33m(\u001b[0m\u001b[0mdirec_lst\u001b[0m\u001b[1;33m,\u001b[0m\u001b[1;36m15\u001b[0m\u001b[1;33m,\u001b[0m\u001b[1;36m1\u001b[0m\u001b[1;33m)\u001b[0m\u001b[1;33m\u001b[0m\u001b[1;33m\u001b[0m\u001b[0m\n\u001b[0m",
      "\u001b[1;31mTypeError\u001b[0m: get_data() missing 1 required positional argument: 'last_index'"
     ]
    }
   ],
   "source": [
    "direc_lst    = ('C:\\\\Users\\zeXal\\Downloads\\stem_cells-master (1)\\stem_cells-master\\output',\n",
    "                'C:\\\\Users\\zeXal\\Downloads\\stem_cells-master (1)\\stem_cells-master\\output')\n",
    "type1_matrix,type2_matrix,time_matrix=get_data(direc_lst,15,1)"
   ]
  },
  {
   "cell_type": "code",
   "execution_count": 50,
   "metadata": {},
   "outputs": [
    {
     "data": {
      "text/plain": [
       "10"
      ]
     },
     "execution_count": 50,
     "metadata": {},
     "output_type": "execute_result"
    }
   ],
   "source": [
    "n"
   ]
  },
  {
   "cell_type": "code",
   "execution_count": 52,
   "metadata": {
    "scrolled": false
   },
   "outputs": [
    {
     "data": {
      "text/plain": [
       "Text(0.5, 1.0, 'Initial 20000 cells two thearpy in a week')"
      ]
     },
     "execution_count": 52,
     "metadata": {},
     "output_type": "execute_result"
    },
    {
     "data": {
      "image/png": "[encoded data removed]",
      "text/plain": [
       "<Figure size 720x360 with 1 Axes>"
      ]
     },
     "metadata": {
      "needs_background": "light"
     },
     "output_type": "display_data"
    }
   ],
   "source": [
    "type1_matrix,type2_matrix,time_matrix=get_data('C:\\\\Users\\zeXal\\Downloads\\stem_cells-master (1)\\stem_cells-master\\output' , 0, 1, 20 )\n",
    "\n",
    "plt.figure(figsize=(10,5))\n",
    "plot_ode45(u_lst,v_lst,t = np.linspace(0,t_elpse,len(u_lst)))\n",
    "plot_data(type1_matrix,type2_matrix,time_matrix)\n",
    "plt.xlim(0,1500)\n",
    "plt.ylim(0,1000)\n",
    "plt.title('Initial 20000 cells two thearpy in a week',fontsize = 15)"
   ]
  },
  {
   "cell_type": "code",
   "execution_count": null,
   "metadata": {},
   "outputs": [],
   "source": []
  },
  {
   "cell_type": "code",
   "execution_count": null,
   "metadata": {},
   "outputs": [],
   "source": [
    "t = np.linspace(0,t_elpse,len(u_lst))\n",
    "print(t)"
   ]
  },
  {
   "cell_type": "code",
   "execution_count": null,
   "metadata": {},
   "outputs": [],
   "source": [
    "direc_lst    = ('C:\\\\Users\\zeXal\\Desktop\\stem_cells_paul _yushang\\stem_cells-master\\output_fix_10_60_1',\n",
    "                'C:\\\\Users\\zeXal\\Desktop\\stem_cells_paul _yushang\\stem_cells-master\\output_sto_10_60',\n",
    "                'C:\\\\Users\\zeXal\\Desktop\\stem_cells_paul _yushang\\stem_cells-master\\output_sto_10_60_2',\n",
    "                'C:\\\\Users\\zeXal\\Desktop\\stem_cells_paul _yushang\\stem_cells-master\\output_sto_10_60_3')\n",
    "type1_matrix = np.zeros((len(direc_lst),41))\n",
    "type2_matrix = np.zeros((len(direc_lst),41))\n",
    "type3_matrix = np.zeros((len(direc_lst),41))\n",
    "time_matrix  = np.zeros((len(direc_lst),41))"
   ]
  },
  {
   "cell_type": "code",
   "execution_count": null,
   "metadata": {},
   "outputs": [],
   "source": [
    "for j in range(len(direc_lst)):    \n",
    "    for i in range(1,41):\n",
    "        if i>=10:\n",
    "            new_str = str(i);\n",
    "        else:\n",
    "            new_str = '0'+str(i)\n",
    "        my_str = 'output000000'+new_str +'.xml'\n",
    "        mcds = pyMCDS(my_str,direc_lst[j])\n",
    "        all_type = mcds.data['discrete_cells']['cell_type']\n",
    "        type1_matrix[j][i] = sum(all_type==1)\n",
    "        type2_matrix[j][i] = sum(all_type==2)\n",
    "        time_matrix[j][i]  = mcds.get_time()"
   ]
  },
  {
   "cell_type": "code",
   "execution_count": null,
   "metadata": {},
   "outputs": [],
   "source": [
    "plt.figure(figsize=(16,12))\n",
    "title_lst = ('fix duration for division rate 1/60h 10 days',\n",
    "             'stocastic duration for division rate 1/60h 10 days first',\n",
    "             'stocastic duration for division rate 1/60h 10 days second',\n",
    "             'stocastic duration for division rate 1/60h 10 days thrid')\n",
    "for i in range(4):\n",
    "    plt.subplot(2,3,i+1)\n",
    "    plt.plot(time_matrix[i,:],type1_matrix[i,:],'bo-',label='type1 number')\n",
    "    plt.plot(time_matrix[i,:],type2_matrix[i,:],'ro-',label='type2 number')\n",
    "    plt.plot(time_matrix[i,:],type2_matrix[i,:]+type1_matrix[i,:],'go-',label='total number')\n",
    "    plt.legend()\n",
    "    plt.title(title_lst[i])\n",
    "    plt.xlim(0, 15000)\n",
    "    plt.xlabel('figure {}'.format(i+1))\n",
    "    plt.ylim(0,18000)\n",
    "v = 1/60/60 # division rate per min\n",
    "p = 0.8 # probabilty stays stem cell after division\n",
    "t_total = 14400 # time min\n",
    "for i in range(2):\n",
    "    z = odeint(model,z0,t)\n",
    "    plt.subplot(2,3,i+5)\n",
    "    plt.plot(t,z[:,0],'b-',label=r'CSC')\n",
    "    plt.plot(t,z[:,1],'r-',label=r'DCC')\n",
    "    plt.plot(t,z[:,1]+z[:,0],'g-',label=r'total')\n",
    "    plt.ylabel('cell number')\n",
    "    plt.xlabel('figure {}'.format(i+5))\n",
    "    plt.legend(loc='best')\n",
    "    plt.xlim(0, 15000)\n",
    "    plt.ylim(0,18000) \n",
    "    if i ==0:\n",
    "        plt.title('ODE model for Cell number')\n",
    "    else:\n",
    "        plt.title('ODE model for Cell number rate*=ln(2)')\n",
    "    v = v*np.log(2)"
   ]
  },
  {
   "cell_type": "markdown",
   "metadata": {},
   "source": [
    "Figure 1 is the fixed duration for average duration 60 hours = 3600mins and totoal time for 10 days = 14400 mins.\n",
    "\n",
    "Figure 2,3,4 are the is the stochastic duration for average duration 60 hours = 3600mins and totoal time for 10 days = 14400 mins.\n",
    "\n",
    "Figure 5 is the ode model as professor lowengrub derive last time.\n",
    "\n",
    "Figure 6 is the preious ode model which I multiply the division rate by Ln(2).\n",
    "\n",
    "From 1,6， we can see that fixed duation is pretty agree with the ode model which division rate multiply by Ln(2).\n",
    "\n",
    "From 2,3,4 vs 5 we can see that stochastic duration model are pretty agree with the model derived before.\n",
    "\n",
    "I'm a little confused about those results. Could you help me with these?"
   ]
  },
  {
   "cell_type": "code",
   "execution_count": null,
   "metadata": {},
   "outputs": [],
   "source": []
  },
  {
   "cell_type": "code",
   "execution_count": null,
   "metadata": {},
   "outputs": [],
   "source": []
  }
 ],
 "metadata": {
  "kernelspec": {
   "display_name": "Python 3",
   "language": "python",
   "name": "python3"
  },
  "language_info": {
   "codemirror_mode": {
    "name": "ipython",
    "version": 3
   },
   "file_extension": ".py",
   "mimetype": "text/x-python",
   "name": "python",
   "nbconvert_exporter": "python",
   "pygments_lexer": "ipython3",
   "version": "3.7.4"
  }
 },
 "nbformat": 4,
 "nbformat_minor": 2
}
